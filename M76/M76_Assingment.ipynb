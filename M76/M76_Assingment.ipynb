{
 "cells": [
  {
   "cell_type": "code",
   "execution_count": 2,
   "id": "e0f67160",
   "metadata": {},
   "outputs": [
    {
     "name": "stdout",
     "output_type": "stream",
     "text": [
      "Small Excel sheet created successfully!\n"
     ]
    }
   ],
   "source": [
    "import pandas as pd\n",
    "\n",
    "# Load CSV file\n",
    "df = pd.read_csv(\"adult.csv\").iloc[:500]\n",
    "\n",
    "# Prepare data for the small sheet\n",
    "columns = df.columns.tolist()\n",
    "education_column = \"education\"\n",
    "unique_education = df[education_column].dropna().unique().tolist()\n",
    "repetitions = df[education_column].value_counts().reindex(unique_education, fill_value=0).tolist()\n",
    "\n",
    "# Pad data to match the number of columns\n",
    "max_length = len(columns)\n",
    "education_padded = unique_education + [\"\"] * (max_length - len(unique_education))\n",
    "repetitions_padded = repetitions + [0] * (max_length - len(repetitions))\n",
    "column_datatypes = [str(df[col].dtype) for col in columns]\n",
    "\n",
    "# Create and save the small sheet\n",
    "small_sheet = pd.DataFrame({\n",
    "    \"Column_Name\": columns,\n",
    "    \"Column_Number\": range(1, max_length + 1),\n",
    "    \"Education\": education_padded,\n",
    "    \"Column_Repet_Time\": repetitions_padded,\n",
    "    \"Column_datatype\": column_datatypes\n",
    "})\n",
    "\n",
    "small_sheet.to_csv(\"small_sheet.csv\", index=False)\n",
    "print(\"Small Excel sheet created successfully!\")"
   ]
  },
  {
   "cell_type": "code",
   "execution_count": null,
   "id": "263b3440",
   "metadata": {},
   "outputs": [],
   "source": []
  }
 ],
 "metadata": {
  "kernelspec": {
   "display_name": "Python 3 (ipykernel)",
   "language": "python",
   "name": "python3"
  },
  "language_info": {
   "codemirror_mode": {
    "name": "ipython",
    "version": 3
   },
   "file_extension": ".py",
   "mimetype": "text/x-python",
   "name": "python",
   "nbconvert_exporter": "python",
   "pygments_lexer": "ipython3",
   "version": "3.11.5"
  }
 },
 "nbformat": 4,
 "nbformat_minor": 5
}
