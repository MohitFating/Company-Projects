{
 "cells": [
  {
   "cell_type": "code",
   "execution_count": 15,
   "id": "e0f67160",
   "metadata": {},
   "outputs": [
    {
     "name": "stdout",
     "output_type": "stream",
     "text": [
      "Small Excel sheet created successfully!\n"
     ]
    }
   ],
   "source": [
    "import pandas as pd\n",
    "\n",
    "# Load the large Excel sheet\n",
    "df = pd.read_csv(\"adult.csv\")\n",
    "\n",
    "df = df.iloc[:50]\n",
    "\n",
    "# Prepare the small sheet logic\n",
    "columns = df.columns.tolist()  # Column names\n",
    "column_numbers = list(range(1, len(columns) + 1))  # Assign column numbers\n",
    "education_column = \"education\"  # Column for extracting education levels\n",
    "\n",
    "# Extract unique values and count repetitions for the education column\n",
    "unique_education = df[education_column].dropna().unique().tolist()\n",
    "repetitions = [df[education_column].value_counts().get(value, 0) for value in unique_education]\n",
    "\n",
    "# Adjust lengths to match the number of columns\n",
    "education_padded = unique_education + [\"\"] * (len(columns) - len(unique_education))\n",
    "repetitions_padded = repetitions + [0] * (len(columns) - len(repetitions))\n",
    "column_datatypes = [str(df[col].dtype) for col in columns]\n",
    "\n",
    "# Create the small sheet DataFrame\n",
    "small_sheet = pd.DataFrame({\n",
    "    \"Column_Name\": columns,\n",
    "    \"Column_Number\": column_numbers,\n",
    "    \"Education\": education_padded,\n",
    "    \"Column_Repet_Time\": repetitions_padded,\n",
    "    \"Column_datatype\": column_datatypes\n",
    "})\n",
    "\n",
    "# Save the small sheet to Excel\n",
    "small_sheet.to_excel(\"small_sheet.xlsx\", index=False)\n",
    "\n",
    "print(\"Small Excel sheet created successfully!\")\n"
   ]
  },
  {
   "cell_type": "code",
   "execution_count": null,
   "id": "6c9866fc",
   "metadata": {},
   "outputs": [],
   "source": []
  }
 ],
 "metadata": {
  "kernelspec": {
   "display_name": "Python 3 (ipykernel)",
   "language": "python",
   "name": "python3"
  },
  "language_info": {
   "codemirror_mode": {
    "name": "ipython",
    "version": 3
   },
   "file_extension": ".py",
   "mimetype": "text/x-python",
   "name": "python",
   "nbconvert_exporter": "python",
   "pygments_lexer": "ipython3",
   "version": "3.11.5"
  }
 },
 "nbformat": 4,
 "nbformat_minor": 5
}
